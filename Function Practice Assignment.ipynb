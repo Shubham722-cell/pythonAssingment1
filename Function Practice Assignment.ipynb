{
 "cells": [
  {
   "cell_type": "code",
   "execution_count": 7,
   "id": "8d168880-7b82-44c2-84f4-3e0ed056a649",
   "metadata": {},
   "outputs": [],
   "source": [
    "#Q.Problem Description:\n",
    "#You are given a temperature in Celsius. Your task is to convert it to Fahrenheit and return the result.\n",
    "#Formula :\n",
    "#To convert Celsius to Fahrenheit, use the formula:\n",
    "\n",
    "#F = (9/5 * C) + 32\n",
    "\n",
    "#Where F is the temperature in Fahrenheit and C is the temperature in Celsius.\n",
    "\n",
    "#Input :\n",
    "\n",
    "#A floating-point number C representing the temperature in Celsius.\n",
    "\n",
    "#Output :\n",
    "\n",
    "#A floating-point number representing the temperature in Fahrenheit.\n",
    "\n",
    "def temp_converter():\n",
    "    C=int(input(\"Enter your temperature:\"))\n",
    "    F=((9/5)*C)+32\n",
    "    return \"The temperature in Farenhiet:\"+str(F)"
   ]
  },
  {
   "cell_type": "code",
   "execution_count": 3,
   "id": "ae4b13d4-958c-4dce-95fe-f340fd17df4a",
   "metadata": {},
   "outputs": [
    {
     "name": "stdin",
     "output_type": "stream",
     "text": [
      "Enter your temperature: 25\n"
     ]
    },
    {
     "data": {
      "text/plain": [
       "'The temperature in Farenhiet:77.0'"
      ]
     },
     "execution_count": 3,
     "metadata": {},
     "output_type": "execute_result"
    }
   ],
   "source": [
    "temp_converter()"
   ]
  },
  {
   "cell_type": "code",
   "execution_count": 5,
   "id": "6372c3a9-b6f6-407c-963d-eab1242cd14f",
   "metadata": {},
   "outputs": [
    {
     "name": "stdin",
     "output_type": "stream",
     "text": [
      "Enter your temperature: 0\n"
     ]
    },
    {
     "data": {
      "text/plain": [
       "'The temperature in Farenhiet:32.0'"
      ]
     },
     "execution_count": 5,
     "metadata": {},
     "output_type": "execute_result"
    }
   ],
   "source": [
    "temp_converter()"
   ]
  },
  {
   "cell_type": "code",
   "execution_count": 21,
   "id": "31578921-40b8-4182-a53c-5c105cb85795",
   "metadata": {},
   "outputs": [],
   "source": [
    "#Q.Problem Description:\n",
    "#You are given the length and breadth of a rectangle. Your task is to compute and return the area of the rectangle.\n",
    "#Formula :\n",
    "\n",
    "#To calculate the area of a rectangle:\n",
    "\n",
    "#Area=length×breadth\n",
    "\n",
    "#Input :\n",
    "\n",
    "#Two floating-point numbers, length and breadth, representing the dimensions of the rectangle.\n",
    "\n",
    "#Output :\n",
    "\n",
    "#A floating-point number representing the area of the rectangle.\n",
    "\n",
    "#Example :\n",
    "\n",
    "#Input: length = 5, breadth = 3 Output: 15.0\n",
    "\n",
    "#Input: length = 7.5, breadth = 2.4 Output: 18.0\n",
    "def  rect_area(L,B):\n",
    "    AOR=L*B\n",
    "    return \"The area of rectangle: \"+str(AOR)"
   ]
  },
  {
   "cell_type": "code",
   "execution_count": 23,
   "id": "4848addb-204b-4e40-b305-d9b43ed97236",
   "metadata": {},
   "outputs": [
    {
     "data": {
      "text/plain": [
       "'The area of rectangle: 15'"
      ]
     },
     "execution_count": 23,
     "metadata": {},
     "output_type": "execute_result"
    }
   ],
   "source": [
    "rect_area(5,3)"
   ]
  },
  {
   "cell_type": "code",
   "execution_count": 25,
   "id": "a186f852-b38b-4153-8bc9-ebe63def1802",
   "metadata": {},
   "outputs": [
    {
     "data": {
      "text/plain": [
       "'The area of rectangle: 18.0'"
      ]
     },
     "execution_count": 25,
     "metadata": {},
     "output_type": "execute_result"
    }
   ],
   "source": [
    "rect_area(7.5,2.4)"
   ]
  },
  {
   "cell_type": "code",
   "execution_count": 37,
   "id": "fa3c196e-1bf8-4e94-b45e-36c8b99ada70",
   "metadata": {},
   "outputs": [],
   "source": [
    "#Q.Distance Covered by a Vehicle\n",
    "#Problem Description:\n",
    "#You are given the speed of a vehicle and the time it has traveled. Your task is to compute and return the distance traveled by the vehicle.\n",
    "#Formula :\n",
    "\n",
    "#To calculate the distance traveled by a vehicle:\n",
    "\n",
    "#Distance=Speed×Time\n",
    "\n",
    "#Input :\n",
    "\n",
    "#Two floating-point numbers, speed and time, representing the speed of the vehicle and the time it has been traveling.\n",
    "\n",
    "#Output :\n",
    "\n",
    "#A floating-point number representing the distance traveled.\n",
    "\n",
    "#Example :\n",
    "\n",
    "#Input: speed = 60, time = 2 Output: 120.0\n",
    "\n",
    "#Input: speed = 50.5, time = 1.5 Output: 75.75\n",
    "def dist_travelled(Speed,Time):\n",
    "    Distance=Speed*Time\n",
    "    return \"The Distance travelled by vechicle is :\" + str(Distance)"
   ]
  },
  {
   "cell_type": "code",
   "execution_count": 39,
   "id": "c3edcfaf-a5b0-497a-b182-d90e122dc1a1",
   "metadata": {},
   "outputs": [
    {
     "data": {
      "text/plain": [
       "'The Distance travelled by vechicle is :120'"
      ]
     },
     "execution_count": 39,
     "metadata": {},
     "output_type": "execute_result"
    }
   ],
   "source": [
    "dist_travelled(60,2)"
   ]
  },
  {
   "cell_type": "code",
   "execution_count": 43,
   "id": "2539d384-7c3a-44b9-a6b9-981d7f48792f",
   "metadata": {},
   "outputs": [
    {
     "data": {
      "text/plain": [
       "'The Distance travelled by vechicle is :75.75'"
      ]
     },
     "execution_count": 43,
     "metadata": {},
     "output_type": "execute_result"
    }
   ],
   "source": [
    "dist_travelled(50.5,1.5)"
   ]
  },
  {
   "cell_type": "code",
   "execution_count": 85,
   "id": "981429de-3a86-43f1-aa46-86d08a311d28",
   "metadata": {},
   "outputs": [],
   "source": [
    "#Q.Problem Description:\n",
    "#You are given the slope m and the y-intercept b of a line, along with a value x. Your task is to calculate and return the value of y using the equation of a line in slope-intercept form:\n",
    "\n",
    "#y=mx+b\n",
    "\n",
    "#Input :\n",
    "\n",
    "#Three floating-point numbers: slope, intercept, and x.\n",
    "\n",
    "#Output :\n",
    "\n",
    "#A floating-point number representing the value of yyy corresponding to the given xxx.\n",
    "\n",
    "#Example :\n",
    "\n",
    "#Input: slope = 2, intercept = 3, x = 4 Output: 11.0\n",
    "\n",
    "#Input: slope = 1.5, intercept = -2, x = 2 Output: 1.0\n",
    "def value_of_y():\n",
    "    m=(input(\"enter slope:\"))\n",
    "    x=(input(\"enter x:\"))\n",
    "    b=(input(\"enter intercept:\"))\n",
    "    y=(float(m)*int(x)+int(b))\n",
    "    return \"The value of y is:\" +str(y)"
   ]
  },
  {
   "cell_type": "code",
   "execution_count": 83,
   "id": "6112b301-7d3d-4f67-96f3-f12db3dcfb30",
   "metadata": {},
   "outputs": [
    {
     "name": "stdin",
     "output_type": "stream",
     "text": [
      "enter slope: 2\n",
      "enter x: 4\n",
      "enter intercept: 3\n"
     ]
    },
    {
     "data": {
      "text/plain": [
       "'The value of y is:11.0'"
      ]
     },
     "execution_count": 83,
     "metadata": {},
     "output_type": "execute_result"
    }
   ],
   "source": [
    "value_of_y()"
   ]
  },
  {
   "cell_type": "code",
   "execution_count": 87,
   "id": "0e5e92cd-bae1-4c0b-be1a-ed67e9dc38d3",
   "metadata": {},
   "outputs": [
    {
     "name": "stdin",
     "output_type": "stream",
     "text": [
      "enter slope: 1.5\n",
      "enter x: 2\n",
      "enter intercept: -2\n"
     ]
    },
    {
     "data": {
      "text/plain": [
       "'The value of y is:1.0'"
      ]
     },
     "execution_count": 87,
     "metadata": {},
     "output_type": "execute_result"
    }
   ],
   "source": [
    "value_of_y()"
   ]
  },
  {
   "cell_type": "code",
   "execution_count": null,
   "id": "473c079c-5188-4c7b-9390-e591175ec941",
   "metadata": {},
   "outputs": [],
   "source": []
  }
 ],
 "metadata": {
  "kernelspec": {
   "display_name": "Python 3 (ipykernel)",
   "language": "python",
   "name": "python3"
  },
  "language_info": {
   "codemirror_mode": {
    "name": "ipython",
    "version": 3
   },
   "file_extension": ".py",
   "mimetype": "text/x-python",
   "name": "python",
   "nbconvert_exporter": "python",
   "pygments_lexer": "ipython3",
   "version": "3.12.4"
  }
 },
 "nbformat": 4,
 "nbformat_minor": 5
}
