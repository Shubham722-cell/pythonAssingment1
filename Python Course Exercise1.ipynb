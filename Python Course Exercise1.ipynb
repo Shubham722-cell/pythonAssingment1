{
 "cells": [
  {
   "cell_type": "code",
   "execution_count": 7,
   "id": "90c082d9-bc93-4330-bdd6-6b6f38fd20ac",
   "metadata": {},
   "outputs": [
    {
     "data": {
      "text/plain": [
       "2401"
      ]
     },
     "execution_count": 7,
     "metadata": {},
     "output_type": "execute_result"
    }
   ],
   "source": [
    "##Q1. Answer the questions or complete the tasks outlined in bold below, use the specific method described if applicable.\n",
    "\n",
    "7**4"
   ]
  },
  {
   "cell_type": "code",
   "execution_count": 9,
   "id": "c93d45d8-91f8-4727-a0dc-754346d47054",
   "metadata": {},
   "outputs": [
    {
     "data": {
      "text/plain": [
       "['Hi', 'there', 'Yogesh!']"
      ]
     },
     "execution_count": 9,
     "metadata": {},
     "output_type": "execute_result"
    }
   ],
   "source": [
    "##Q2. ** Split this string:**\n",
    "## s = \"Hi there Yogesh!\"\n",
    "## *into a list. *\n",
    "s = \"Hi there Yogesh!\"\n",
    "s.split()"
   ]
  },
  {
   "cell_type": "code",
   "execution_count": 33,
   "id": "5d08db80-c248-4d32-8db0-02e3d1cddf65",
   "metadata": {},
   "outputs": [],
   "source": [
    "##Q3.** Given the variables:**\n",
    "\n",
    "##planet = \"Earth\"\n",
    "##diameter = 12742\n",
    "##** Use .format() to print the following string: **\n",
    "\n",
    "##The diameter of Earth is 12742 kilometers."
   ]
  },
  {
   "cell_type": "code",
   "execution_count": 21,
   "id": "bb1873a3-c27e-4e63-9870-fca61654dee3",
   "metadata": {},
   "outputs": [],
   "source": [
    "planet = \"Earth\"\n",
    "diameter = 12742\n",
    "a='The diameter of {planet} is {diameter} kilometers.'"
   ]
  },
  {
   "cell_type": "code",
   "execution_count": 23,
   "id": "54c8158d-1312-4a90-8254-38ecb97530cd",
   "metadata": {},
   "outputs": [
    {
     "data": {
      "text/plain": [
       "'The diameter of {planet} is {diameter} kilometers.'"
      ]
     },
     "execution_count": 23,
     "metadata": {},
     "output_type": "execute_result"
    }
   ],
   "source": [
    "a"
   ]
  },
  {
   "cell_type": "code",
   "execution_count": 29,
   "id": "d06aeb59-b208-465e-8208-0bd3b872232b",
   "metadata": {},
   "outputs": [
    {
     "data": {
      "text/plain": [
       "'The diameter of Earth is 12742 kilometers'"
      ]
     },
     "execution_count": 29,
     "metadata": {},
     "output_type": "execute_result"
    }
   ],
   "source": [
    "\"The diameter of {planet} is {diameter} kilometers\".format(planet = \"Earth\",diameter = 12742)"
   ]
  },
  {
   "cell_type": "code",
   "execution_count": 31,
   "id": "a4378d3a-a391-47b8-924d-29dc67c4695b",
   "metadata": {},
   "outputs": [
    {
     "data": {
      "text/plain": [
       "'The diameter of Earth is 12742 kilometers.'"
      ]
     },
     "execution_count": 31,
     "metadata": {},
     "output_type": "execute_result"
    }
   ],
   "source": [
    "a.format(planet = \"Earth\",diameter = 12742)"
   ]
  },
  {
   "cell_type": "code",
   "execution_count": 41,
   "id": "705aed26-4fc0-4245-b777-32f7406afa1f",
   "metadata": {},
   "outputs": [],
   "source": [
    "##Q4** Given this nested dictionary grab the word \"hello\". Be prepared, this will be annoying/tricky **\n",
    "d = {'k1':[1,2,3,{'tricky':['oh','man','inception',{'target':[1,2,3,'hello']}]}]}"
   ]
  },
  {
   "cell_type": "code",
   "execution_count": 43,
   "id": "20271b54-9cc4-474b-a591-b760e701aa41",
   "metadata": {},
   "outputs": [
    {
     "data": {
      "text/plain": [
       "{'k1': [1,\n",
       "  2,\n",
       "  3,\n",
       "  {'tricky': ['oh', 'man', 'inception', {'target': [1, 2, 3, 'hello']}]}]}"
      ]
     },
     "execution_count": 43,
     "metadata": {},
     "output_type": "execute_result"
    }
   ],
   "source": [
    "d"
   ]
  },
  {
   "cell_type": "code",
   "execution_count": 45,
   "id": "f25dca78-2b2b-4c92-a67c-d63dcb38c2be",
   "metadata": {},
   "outputs": [
    {
     "data": {
      "text/plain": [
       "[1,\n",
       " 2,\n",
       " 3,\n",
       " {'tricky': ['oh', 'man', 'inception', {'target': [1, 2, 3, 'hello']}]}]"
      ]
     },
     "execution_count": 45,
     "metadata": {},
     "output_type": "execute_result"
    }
   ],
   "source": [
    "d['k1']"
   ]
  },
  {
   "cell_type": "code",
   "execution_count": 47,
   "id": "3344a56a-9530-491a-9f2f-2ce1eff1560f",
   "metadata": {},
   "outputs": [
    {
     "data": {
      "text/plain": [
       "{'tricky': ['oh', 'man', 'inception', {'target': [1, 2, 3, 'hello']}]}"
      ]
     },
     "execution_count": 47,
     "metadata": {},
     "output_type": "execute_result"
    }
   ],
   "source": [
    "d['k1'][3]"
   ]
  },
  {
   "cell_type": "code",
   "execution_count": 49,
   "id": "0346241e-8f01-4436-bfe2-4dae579ea77a",
   "metadata": {},
   "outputs": [
    {
     "data": {
      "text/plain": [
       "['oh', 'man', 'inception', {'target': [1, 2, 3, 'hello']}]"
      ]
     },
     "execution_count": 49,
     "metadata": {},
     "output_type": "execute_result"
    }
   ],
   "source": [
    "d['k1'][3]['tricky']"
   ]
  },
  {
   "cell_type": "code",
   "execution_count": 55,
   "id": "98e40317-0a88-4964-b37a-33c1d614d36a",
   "metadata": {},
   "outputs": [
    {
     "data": {
      "text/plain": [
       "'hello'"
      ]
     },
     "execution_count": 55,
     "metadata": {},
     "output_type": "execute_result"
    }
   ],
   "source": [
    "d['k1'][3]['tricky'][3]['target'][3]"
   ]
  },
  {
   "cell_type": "code",
   "execution_count": 59,
   "id": "5177a351-dbc2-46f8-969a-b6b2a7befd9a",
   "metadata": {},
   "outputs": [],
   "source": [
    "##Q5. ** What is the main difference between a tuple and a list? **\n",
    "# Tuple is immutable"
   ]
  },
  {
   "cell_type": "code",
   "execution_count": 81,
   "id": "259d853a-4b99-41c7-93aa-04c7512d8f3c",
   "metadata": {},
   "outputs": [],
   "source": [
    "##Q5.** Create a function that grabs the email website domain from a string in the form: **\n",
    "def grab_domain():\n",
    "    a=input(\"Enter your mail id:\")\n",
    "    print(a.split('@')[1])"
   ]
  },
  {
   "cell_type": "code",
   "execution_count": 87,
   "id": "18f8f45a-d660-4ff1-8614-28b9d0757157",
   "metadata": {},
   "outputs": [
    {
     "name": "stdin",
     "output_type": "stream",
     "text": [
      "Enter your mail id: sr984566@gamil.com\n"
     ]
    },
    {
     "name": "stdout",
     "output_type": "stream",
     "text": [
      "gamil.com\n"
     ]
    }
   ],
   "source": [
    "grab_domain()"
   ]
  },
  {
   "cell_type": "code",
   "execution_count": 89,
   "id": "6285998d-4530-4906-9918-f52180048853",
   "metadata": {},
   "outputs": [],
   "source": [
    "def get_domain(a):\n",
    "    return a.split(\"@\")[1]"
   ]
  },
  {
   "cell_type": "code",
   "execution_count": 93,
   "id": "2c96b9fb-189a-4397-9214-6d54f3647272",
   "metadata": {},
   "outputs": [
    {
     "data": {
      "text/plain": [
       "'gamil.com'"
      ]
     },
     "execution_count": 93,
     "metadata": {},
     "output_type": "execute_result"
    }
   ],
   "source": [
    "get_domain('sr896621@gamil.com')"
   ]
  },
  {
   "cell_type": "code",
   "execution_count": 1,
   "id": "2fe0e630-4715-477c-8569-5cf0176b2f09",
   "metadata": {},
   "outputs": [],
   "source": [
    "##Q6.Create a basic function that returns True if the word 'dog' is contained in the input string. \n",
    "#Don't worry about edge cases like a punctuation being attached to the word dog, but do account for capitalization.\n"
   ]
  },
  {
   "cell_type": "code",
   "execution_count": 3,
   "id": "acc78996-b0cd-4850-90f2-86825ef09980",
   "metadata": {},
   "outputs": [],
   "source": [
    "def find_dog1():\n",
    "    d=input(\"Enter your string:\")\n",
    "    if \"dog\" in d.lower():\n",
    "        print(\"your string contain word dog\",\"True\")\n",
    "    else:\n",
    "        print(\"your string does not contain word dog\",\"False\")"
   ]
  },
  {
   "cell_type": "code",
   "execution_count": 5,
   "id": "73f72ae1-805c-4b76-b725-f12c473deb82",
   "metadata": {},
   "outputs": [
    {
     "name": "stdin",
     "output_type": "stream",
     "text": [
      "Enter your string: life works in cycle like DOG biting it's tail\n"
     ]
    },
    {
     "name": "stdout",
     "output_type": "stream",
     "text": [
      "your string contain word dog True\n"
     ]
    }
   ],
   "source": [
    "find_dog1()"
   ]
  },
  {
   "cell_type": "code",
   "execution_count": 7,
   "id": "e7b73a40-612d-4554-9e95-15ff52217eac",
   "metadata": {},
   "outputs": [],
   "source": [
    "##Q7.** What is the main difference between a tuple and a list? **\n",
    "#Tuple is immutable"
   ]
  },
  {
   "cell_type": "code",
   "execution_count": 9,
   "id": "11a8ac93-66fd-4f28-9801-da645a047576",
   "metadata": {},
   "outputs": [],
   "source": [
    "##Q8** Create a function that counts the number of times the word \"dog\" occurs in a string. Again ignore edge cases. **\n",
    "#def count_dog2():\n",
    "   # s=input(\"Enter your string:\")\n",
    "   # if \"dog\" in s.lower():\n",
    "   #     return s.lower().count(\"dog\")\n",
    "#def count_dog1():\n",
    "    #s=input(\"Enter your string: \")\n",
    "    #print( s.lower().count(\"dog\"))\n",
    "#def count_dog():\n",
    "    #s=input(\"Enter your string\")\n",
    "    #return s.lower().count(\"dog\")\n",
    "#s=input(\"Enter your string:\")\n",
    "#if \"dogs\" in s.lower():\n",
    "    #print(\"The number of times the word dog comes in our string is:\",s.lower().count('dogs'))"
   ]
  },
  {
   "cell_type": "code",
   "execution_count": 11,
   "id": "45887a8b-0002-476e-9ae8-e6c580018b2b",
   "metadata": {},
   "outputs": [],
   "source": [
    "def count_dog2():\n",
    "    s=input(\"Enter your string:\")\n",
    "    if \"dog\" in s.lower():\n",
    "        return s.lower().count(\"dog\")"
   ]
  },
  {
   "cell_type": "code",
   "execution_count": 13,
   "id": "60da6896-abe5-4aba-ae4d-a99647d3b757",
   "metadata": {},
   "outputs": [
    {
     "name": "stdin",
     "output_type": "stream",
     "text": [
      "Enter your string: Dogs are descendants of wolves,Dogs are intelligent,Dogs are highly loyal to their owners\n"
     ]
    },
    {
     "data": {
      "text/plain": [
       "3"
      ]
     },
     "execution_count": 13,
     "metadata": {},
     "output_type": "execute_result"
    }
   ],
   "source": [
    "count_dog2()"
   ]
  },
  {
   "cell_type": "code",
   "execution_count": 1,
   "id": "680434d2-b0d9-4481-ba72-965a4459813c",
   "metadata": {},
   "outputs": [],
   "source": [
    "##Q9.** Use lambda expressions and the filter() function to filter out words from a list that don't start with the letter 's'. For example:**\n",
    "seq = ['soup','dog','salad','cat','great']"
   ]
  },
  {
   "cell_type": "code",
   "execution_count": 3,
   "id": "0d385949-666d-47db-87f0-aa8019c151f5",
   "metadata": {},
   "outputs": [
    {
     "data": {
      "text/plain": [
       "list"
      ]
     },
     "execution_count": 3,
     "metadata": {},
     "output_type": "execute_result"
    }
   ],
   "source": [
    "type(seq)"
   ]
  },
  {
   "cell_type": "code",
   "execution_count": 13,
   "id": "a9bf2e2f-f107-409d-88f7-87022ff3867d",
   "metadata": {},
   "outputs": [],
   "source": [
    "#list(map(lambda x:x[0]=='s',seq))"
   ]
  },
  {
   "cell_type": "code",
   "execution_count": 11,
   "id": "15c38524-3cca-4933-9e7b-6400b59b8616",
   "metadata": {},
   "outputs": [
    {
     "data": {
      "text/plain": [
       "['soup', 'salad']"
      ]
     },
     "execution_count": 11,
     "metadata": {},
     "output_type": "execute_result"
    }
   ],
   "source": [
    "list(filter(lambda x:x[0]=='s',seq))"
   ]
  },
  {
   "cell_type": "code",
   "execution_count": 17,
   "id": "d2702913-bb9c-43a8-a326-0b32dc0a770a",
   "metadata": {},
   "outputs": [],
   "source": [
    "##Q10.\n",
    "def caught_speeding(speed,birthday):\n",
    "    speed_ini=speed\n",
    "    if birthday=='True':\n",
    "        speed=speed-5\n",
    "    else:\n",
    "        speed=speed_ini\n",
    "    print(speed)\n",
    "\n",
    "    if speed<=60:\n",
    "        print(\"No Ticket\")\n",
    "    if speed>=61 and speed<=80:\n",
    "        print(\"Small Ticket\")\n",
    "    if speed>=81:\n",
    "        print(\"Big Ticket\")"
   ]
  },
  {
   "cell_type": "code",
   "execution_count": 19,
   "id": "9a2e0513-97c6-4775-a202-9efd3f5e07e0",
   "metadata": {},
   "outputs": [
    {
     "name": "stdout",
     "output_type": "stream",
     "text": [
      "86\n",
      "Big Ticket\n"
     ]
    }
   ],
   "source": [
    "caught_speeding(86,False)"
   ]
  },
  {
   "cell_type": "code",
   "execution_count": 23,
   "id": "abf9c44d-5882-4cde-8cde-0cb7d5c8e0e2",
   "metadata": {},
   "outputs": [
    {
     "name": "stdout",
     "output_type": "stream",
     "text": [
      "81\n",
      "Big Ticket\n"
     ]
    }
   ],
   "source": [
    "caught_speeding(86,True)"
   ]
  },
  {
   "cell_type": "code",
   "execution_count": 31,
   "id": "459a47c1-6c29-4299-ab96-f6f1746ede57",
   "metadata": {},
   "outputs": [
    {
     "name": "stdout",
     "output_type": "stream",
     "text": [
      "86\n",
      "Big Ticket\n"
     ]
    }
   ],
   "source": [
    "caught_speeding(86,'false')"
   ]
  },
  {
   "cell_type": "code",
   "execution_count": 52,
   "id": "20214d8f-a587-49a4-a11c-974b3760168d",
   "metadata": {},
   "outputs": [
    {
     "name": "stdin",
     "output_type": "stream",
     "text": [
      "Enter your input: -98vb4z\n"
     ]
    },
    {
     "name": "stdout",
     "output_type": "stream",
     "text": [
      "-984\n"
     ]
    }
   ],
   "source": [
    "#Question\n",
    "#Given a string print number num by extracting all the\n",
    "#digits from the string as in string\n",
    "#Print negative number if the first character in \n",
    "#string is '-'\n",
    "#eg.\n",
    "#-123abcd should return -123,abcd456-->456,fdhfh78dsd89--->7889,-56dssd78-->-5678\n",
    "s=input(\"Enter your input:\")\n",
    "num=\"\"\n",
    "numbers=[0,1,2,3,4,5,6,7,8,9]\n",
    "if s[0]==\"-\":\n",
    "    num=num+s[0]\n",
    "for c in s:\n",
    "    if c in str(numbers):\n",
    "        num=num+c\n",
    "print(num)"
   ]
  },
  {
   "cell_type": "code",
   "execution_count": 54,
   "id": "cb84666c-55bf-47ca-8047-b78ee488ad84",
   "metadata": {},
   "outputs": [
    {
     "name": "stdin",
     "output_type": "stream",
     "text": [
      "Enter your input: ab67-cd69\n"
     ]
    },
    {
     "name": "stdout",
     "output_type": "stream",
     "text": [
      "6769\n"
     ]
    }
   ],
   "source": [
    "s=input(\"Enter your input:\")\n",
    "num=\"\"\n",
    "numbers=[0,1,2,3,4,5,6,7,8,9]\n",
    "if s[0]==\"-\":\n",
    "    num=num+s[0]\n",
    "for c in s:\n",
    "    if c in str(numbers):\n",
    "        num=num+c\n",
    "print(num)"
   ]
  },
  {
   "cell_type": "code",
   "execution_count": 58,
   "id": "4c956ade-d4b6-419a-acea-d1c029c83962",
   "metadata": {},
   "outputs": [
    {
     "name": "stdin",
     "output_type": "stream",
     "text": [
      "Enter your number 88\n"
     ]
    },
    {
     "name": "stdout",
     "output_type": "stream",
     "text": [
      "Number is:  176\n",
      "Reverse is :  671\n",
      "Number is:  847\n",
      "Reverse is :  748\n",
      "Number is:  847\n",
      "Reverse is :  748\n",
      "Number is:  1595\n",
      "Reverse is :  5951\n",
      "Number is:  1595\n",
      "Reverse is :  5951\n",
      "Number is:  7546\n",
      "Reverse is :  6457\n",
      "Number is:  7546\n",
      "Reverse is :  6457\n",
      "Number is:  14003\n",
      "Reverse is :  30041\n",
      "Number is:  14003\n",
      "Reverse is :  30041\n",
      "Number is:  44044\n",
      "Reverse is :  44044\n",
      "palindrome is :  44044\n"
     ]
    }
   ],
   "source": [
    "#Q2\n",
    "#WAP to check whether a number is palindrome or not on following conditions.\n",
    "#1. take input number\n",
    "#2. add number and its reverse\n",
    "#3. check that number is palindrome or not,if not then sum and its reverse\n",
    "n1=input(\"Enter your number\")\n",
    "n2=int(n1[::-1])\n",
    "n3=str(int(n1)+n2)\n",
    "while n3!=n3[::-1]:\n",
    "    print(\"Number is: \",n3)\n",
    "    print(\"Reverse is : \",n3[::-1])\n",
    "    n3=str(int(n3)+int(n3[::-1]))\n",
    "    print(\"Number is: \",n3)\n",
    "    print(\"Reverse is : \",n3[::-1])\n",
    "print(\"palindrome is : \",n3)"
   ]
  },
  {
   "cell_type": "code",
   "execution_count": 62,
   "id": "aebd1c8f-76da-482f-a979-e9957cdab739",
   "metadata": {},
   "outputs": [
    {
     "name": "stdin",
     "output_type": "stream",
     "text": [
      "Enter your number 86\n"
     ]
    },
    {
     "name": "stdout",
     "output_type": "stream",
     "text": [
      "Number is:  154\n",
      "Reverse is :  451\n",
      "Number is:  605\n",
      "Reverse is :  506\n",
      "Number is:  605\n",
      "Reverse is :  506\n",
      "Number is:  1111\n",
      "Reverse is :  1111\n",
      "palindrome is :  1111\n"
     ]
    }
   ],
   "source": [
    "n1=input(\"Enter your number\")\n",
    "n2=int(n1[::-1])\n",
    "n3=str(int(n1)+n2)\n",
    "while n3!=n3[::-1]:\n",
    "    print(\"Number is: \",n3)\n",
    "    print(\"Reverse is : \",n3[::-1])\n",
    "    n3=str(int(n3)+int(n3[::-1]))\n",
    "    print(\"Number is: \",n3)\n",
    "    print(\"Reverse is : \",n3[::-1])\n",
    "print(\"palindrome is : \",n3)"
   ]
  },
  {
   "cell_type": "code",
   "execution_count": 60,
   "id": "afce02f8-8580-4007-aa8a-bbc7a99bc49a",
   "metadata": {},
   "outputs": [],
   "source": [
    "#Q.Write a python function to find and display the five \n",
    "#digit number in which the first digit is two more than \n",
    "#the second,the second digit is two more than the third,\n",
    "#the fourth digit is two less than the third, and the \n",
    "#last digit is two more than\n",
    "#the fourth.The sum of the third,fourth and fifth digits\n",
    "#equals the first.The sum of all the digits is 19\n"
   ]
  },
  {
   "cell_type": "code",
   "execution_count": 64,
   "id": "687fc81c-174d-4208-8ad2-5b7f1cc411a5",
   "metadata": {},
   "outputs": [
    {
     "data": {
      "text/plain": [
       "'C:\\\\Users\\\\HP'"
      ]
     },
     "execution_count": 64,
     "metadata": {},
     "output_type": "execute_result"
    }
   ],
   "source": [
    "pwd"
   ]
  },
  {
   "cell_type": "code",
   "execution_count": null,
   "id": "0dff819a-63da-4721-ade3-e07deafc5782",
   "metadata": {},
   "outputs": [],
   "source": []
  }
 ],
 "metadata": {
  "kernelspec": {
   "display_name": "Python 3 (ipykernel)",
   "language": "python",
   "name": "python3"
  },
  "language_info": {
   "codemirror_mode": {
    "name": "ipython",
    "version": 3
   },
   "file_extension": ".py",
   "mimetype": "text/x-python",
   "name": "python",
   "nbconvert_exporter": "python",
   "pygments_lexer": "ipython3",
   "version": "3.12.4"
  }
 },
 "nbformat": 4,
 "nbformat_minor": 5
}
